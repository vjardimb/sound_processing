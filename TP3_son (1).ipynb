{
  "cells": [
    {
      "cell_type": "code",
      "execution_count": null,
      "metadata": {
        "id": "GtViv1YDpH9w"
      },
      "outputs": [],
      "source": [
        "import soundfile as sf\n",
        "import matplotlib.pyplot as plt\n",
        "import numpy as np\n",
        "import sounddevice as sd\n",
        "import math\n",
        "from scipy.io import wavfile\n",
        "import wave\n",
        "import contextlib\n",
        "from scipy.fft import fft,ifft\n",
        "from IPython.display import display, Audio"
      ]
    },
    {
      "cell_type": "markdown",
      "metadata": {
        "id": "JVg6aEtVpH90"
      },
      "source": [
        "# Preparation\n",
        "\n",
        "Soit x[n] un signal audio (réel) discret et xmat sa matrice de TFCT, de dimensions M × L\n",
        "définies au TP2. xmat est calculée à partir des paramètres Nwin, Nhop et Nf f t également définis\n",
        "au TP2.\n",
        "\n",
        "1. Quel est l’intérêt de choisir Nwin pair pour le calcul de xmat ?\n",
        "    the interest\n",
        "    \n",
        "2. Quel est l’intérêt de choisir Nf f t ≥ Nwin pour le calcul de xmat ?\n",
        "\n",
        "    before starting the study of the matrix, I am interested in taking a pair Nwin\n",
        "\n",
        "The interest of getting an nfft greater than nwin is that, with this, we will have a greater density of points as a result of the fourier transform for that trame. In this way, we can understand more clearly which frequencies are most present in our signal. Normally, we have frequency peaks between those that we have with the discrete signal, causing small distortions when finding the most influential frequencies. The smaller the number of points as a result of our fft, and consequently the smaller our nfft, the greater this distortion. In bref, the nfft affects the frequency signal accuracy.\n",
        "\n",
        "3. Quel est l’intérêt de choisir Nf f t = Nwin (et pas Nf f t > Nwin) pour le calcul de xmat ?\n",
        "\n",
        "choosing an nfft greater than n win means adding zeros to the end of the windowed signal. This addition can mean changing the original sign since we add information to the end of the sign (zeros) that is not necessarily the real one. This change in the signal can be translated into the fft so that false frequency peaks appear in the windowed signal. The greater the difference between Nfft and Nwin, the more evident these secondary peaks become, which can lead to erroneous interpretations. Therefore, sometimes it is preferable not to perform zero padding on the windowed signal.\n",
        "\n",
        "4. Montrer que la TFD correspondant à la lème trame fenêtrée de x[n] s’écrit :\n",
        "$Xl[1], .., Xl[M], Xl[M − 1]*, .., Xl[2]*$\n",
        "où Xl[k]* désigne le conjugué de Xl[k].\n",
        "\n",
        "$X[M] = \\sum _{i=1} ^{N-1} = x[N]* e^{\\frac{−j2πM*n}{N}}$\n",
        "\n",
        "$X[M-N] = \\sum _{i=1} ^{N-1} = x[N]* e^{\\frac{−j2π(M-N)*n}{N}}$\n",
        "\n",
        "$X[M-N] = \\sum _{i=1} ^{M-1} = x[n]* e^{−j2π*n + \\frac{j2πM*n}{N}}$\n",
        "\n",
        "$X[M-N] = \\sum _{i=1} ^{M-1} = x[n]* e^{ \\frac{j2πM*n}{N}} \\times e^{−j2π*n} $\n",
        "\n",
        "but knowing that \n",
        "\n",
        "$e^{−j2πn} = (e^{−jπ})^{2n}$\n",
        "\n",
        "and\n",
        "\n",
        "$e^{−jπ} = 1$\n",
        "\n",
        "we have, then:\n",
        "\n",
        "$X[M-N] = \\sum _{i=1} ^{M-1} x[n]* e^{ \\frac{j2πM*n}{N}} $\n",
        "\n",
        "by euler's equation, we can see that when we inverse the signal of the angle, we have the conjugate of the original number, so we can assume that:\n",
        "\n",
        "$e^{ \\frac{j2πM*n}{N}} = (e^{ - \\frac{j2πM*n}{N}})^{*}$\n",
        "\n",
        "and this leads us to:\n",
        "\n",
        "$x[N]* e^{ \\frac{j2πM*n}{N}} = (x[n]* e^{ \\frac{j2πM*n}{N}})^*$\n",
        "\n",
        "$X[N - M] = (X[N])^*$\n",
        "\n",
        "and this proves that:\n",
        "\n",
        "X[1] = [M-1], X[2] = [M-2], ... \n",
        "\n",
        "with it, we can see that the FFT has a symmetry around M/2. This proves that we can evaluate the signal halfway and from there just repeat what we found so far, but in reverse order.\n",
        "\n",
        "5. Exprimer la TFD inverse de (Xl[k]) k ∈ [1..Nfft], notée (xl[n]) n ∈ [1..Nwin].\n",
        "\n",
        "The formula for that is:\n",
        "\n",
        "${x[n] = {\\frac {1}{Nfft}}\\sum _{k=1}^{Nfft-1}X_{k}\\cdot e^{i{\\frac {2\\pi }{Nfft}}kn}}$  \n",
        "\n",
        "where n ∈ [1..Nwin].\n",
        "\n",
        "6. A quelle(s) condition(s) sur (Xl[k])k∈[1..Nfft] la TFD inverse (xl[n]) n∈[1..Nwin] est-elle réelle ?"
      ]
    },
    {
      "cell_type": "markdown",
      "metadata": {
        "id": "c3jjiMhWpH95"
      },
      "source": [
        "# Implémentation de la TFCT inverse par Overlap-Add (OLA)\n",
        "\n",
        "Our objective here will be to use the function created in the last TP, which performs the Short time fourier tramsform, to see if we can reverse the process and get back the original sound signal from it.\n",
        "For this we will use the Overlap-Add (OLA) algorithm.\n",
        "\n",
        "The algorithm consists of reconstituting each segment of the Matrix obtained from the STFT.\n",
        "\n",
        "After that, we move each reconstituted chunck so that it is in the right position, according to the original signal.\n",
        "\n",
        "Then we add all these chuncks.\n",
        "\n",
        "And finally, we normalize, taking into account the window function used in STFT (hamming function)"
      ]
    },
    {
      "cell_type": "markdown",
      "metadata": {
        "id": "PghIIZZapH97"
      },
      "source": [
        "First, we take the zeropad and TFCT functions created in the last TP"
      ]
    },
    {
      "cell_type": "code",
      "execution_count": null,
      "metadata": {
        "id": "mvsdyExppH97"
      },
      "outputs": [],
      "source": [
        "#From tp2\n",
        "def zeropad(array, length):\n",
        "    \n",
        "    len_dif = length - len(array)\n",
        "    zero_array = np.zeros(len_dif)\n",
        "\n",
        "    return np.concatenate((array, zero_array))"
      ]
    },
    {
      "cell_type": "code",
      "execution_count": null,
      "metadata": {
        "id": "2hyix7TopH98"
      },
      "outputs": [],
      "source": [
        "#From tp2\n",
        "def tfct(document, N_win, N_hop, N_fft):\n",
        "    xvect = sf.read(document, dtype='float64')\n",
        "    xvect = xvect[0]\n",
        "    \n",
        "    with contextlib.closing(wave.open(document,'r')) as f:\n",
        "        rate = f.getframerate()\n",
        "\n",
        "    x_length = len(xvect)\n",
        "    number_of_ffts = int(x_length/N_hop)\n",
        "\n",
        "    x_mat = np.zeros((N_fft,number_of_ffts))\n",
        "\n",
        "    for i in range(number_of_ffts):\n",
        "\n",
        "        xvect_trame = xvect[i*N_hop:i*N_hop + N_win]\n",
        "\n",
        "        windowed_xvect = [x*hamming_win[i] for i, x in enumerate(xvect_trame)]\n",
        "\n",
        "        zero_paddedwindowed_xvect = zeropad(windowed_xvect, N_fft)\n",
        "\n",
        "        fft_zeropadded_windowed_xvect = fft(zero_paddedwindowed_xvect)\n",
        "\n",
        "        x_mat[:,i-1] = np.transpose(np.abs(fft_zeropadded_windowed_xvect))\n",
        "                \n",
        "    t = np.linspace(0, len(xvect)/rate, number_of_ffts)\n",
        "    f = np.linspace(0, rate, N_fft)\n",
        "    \n",
        "    return t, f, x_mat "
      ]
    },
    {
      "cell_type": "code",
      "execution_count": null,
      "metadata": {
        "id": "4HqHdQx8pH98"
      },
      "outputs": [],
      "source": [
        "#from tp2\n",
        "\n",
        "def extents(f):\n",
        "  delta = f[1] - f[0]\n",
        "  return [f[0] - delta/2, f[-1] + delta/2]"
      ]
    },
    {
      "cell_type": "code",
      "execution_count": null,
      "metadata": {
        "id": "ffULjT4apH99"
      },
      "outputs": [],
      "source": [
        "def tfct(document, N_win, N_hop, N_fft):\n",
        "    xvect = sf.read(document, dtype='float64')\n",
        "    xvect = xvect[0]\n",
        "    \n",
        "    with contextlib.closing(wave.open(document,'r')) as f:\n",
        "        rate = f.getframerate()\n",
        "\n",
        "    x_length = len(xvect)\n",
        "    number_of_ffts = int(x_length/N_hop)\n",
        "\n",
        "    x_mat = np.zeros((N_fft,number_of_ffts))\n",
        "    hamming_win = np.hamming(N_win)\n",
        "\n",
        "    for i in range(number_of_ffts):\n",
        "\n",
        "        xvect_trame = xvect[i*N_hop:i*N_hop + N_win]\n",
        "\n",
        "        windowed_xvect = [x*hamming_win[i] for i, x in enumerate(xvect_trame)]\n",
        "\n",
        "        zero_paddedwindowed_xvect = zeropad(windowed_xvect, N_fft)\n",
        "\n",
        "        fft_zeropadded_windowed_xvect = fft(zero_paddedwindowed_xvect)\n",
        "\n",
        "        x_mat[:,i-1] = np.transpose(np.abs(fft_zeropadded_windowed_xvect))\n",
        "                \n",
        "    t = np.linspace(0, len(xvect)/rate, number_of_ffts)\n",
        "    f = np.linspace(0, rate, N_fft)\n",
        "    \n",
        "    return t, f, x_mat"
      ]
    },
    {
      "cell_type": "markdown",
      "metadata": {
        "id": "X89jI-Z8pH99"
      },
      "source": [
        "Now let's go to the first step of the OLA Algorithm: reconstituting each transformed piece.\n",
        "\n",
        "These chunks correspond to the columns of the STFT matrix.\n",
        "To constitute them, we will use the ifft function, from the Numpy.fft sub-library.\n",
        "\n",
        "This function transforms a frequency signal back into the time domain. As an imput we give a column of the matrix and as a result we have a time signal of the same size."
      ]
    },
    {
      "cell_type": "code",
      "execution_count": null,
      "metadata": {
        "id": "8tnbvvArpH9-"
      },
      "outputs": [],
      "source": [
        "def reconstruct_trame(stft_matrix):    \n",
        "    for i, trame in enumerate(stft_matrix):\n",
        "        reconstructed_list = abs(ifft(trame))"
      ]
    },
    {
      "cell_type": "markdown",
      "metadata": {
        "id": "TvB9IuDqpH9_"
      },
      "source": [
        "Now we need to somehow shift these pieces to, then add them up and get a vector of the same size as the original sound signal.\n",
        "\n",
        "The shortest way will be to create an array of zeros with the correct size.\n",
        "\n",
        "The correct dimension of this vector will be the number of chunks (number of columns) times the STFT advance step (nHop). The problem is that for the last iteration, we must add a vector of the window size (nWin) and not the step size (nHop). So we must add the difference between them (nWin - nHop)"
      ]
    },
    {
      "cell_type": "code",
      "execution_count": null,
      "metadata": {
        "id": "gJNnJE5CpH9_",
        "outputId": "17975a70-94ad-4b2d-c19f-970e252d033f"
      },
      "outputs": [
        {
          "ename": "NameError",
          "evalue": "name 'N_win' is not defined",
          "output_type": "error",
          "traceback": [
            "\u001b[1;31m---------------------------------------------------------------------------\u001b[0m",
            "\u001b[1;31mNameError\u001b[0m                                 Traceback (most recent call last)",
            "\u001b[1;32m<ipython-input-7-fbc3f3efb880>\u001b[0m in \u001b[0;36m<module>\u001b[1;34m\u001b[0m\n\u001b[0;32m      1\u001b[0m \u001b[0mnWin\u001b[0m \u001b[1;33m=\u001b[0m \u001b[1;36m1024\u001b[0m\u001b[1;33m\u001b[0m\u001b[1;33m\u001b[0m\u001b[0m\n\u001b[1;32m----> 2\u001b[1;33m \u001b[0mnHop\u001b[0m \u001b[1;33m=\u001b[0m \u001b[0mround\u001b[0m\u001b[1;33m(\u001b[0m\u001b[0mN_win\u001b[0m\u001b[1;33m/\u001b[0m\u001b[1;36m2\u001b[0m\u001b[1;33m)\u001b[0m\u001b[1;33m\u001b[0m\u001b[1;33m\u001b[0m\u001b[0m\n\u001b[0m\u001b[0;32m      3\u001b[0m \u001b[0mnumber_of_columns\u001b[0m \u001b[1;33m=\u001b[0m \u001b[1;36m500\u001b[0m\u001b[1;33m\u001b[0m\u001b[1;33m\u001b[0m\u001b[0m\n\u001b[0;32m      4\u001b[0m \u001b[1;33m\u001b[0m\u001b[0m\n\u001b[0;32m      5\u001b[0m \u001b[1;33m\u001b[0m\u001b[0m\n",
            "\u001b[1;31mNameError\u001b[0m: name 'N_win' is not defined"
          ]
        }
      ],
      "source": [
        "nWin = 1024\n",
        "nHop = round(N_win/2)\n",
        "number_of_columns = 500\n",
        "\n",
        "\n",
        "np.zeros(int(nHop*number_of_columns + abs(nWin - nHop)))\n"
      ]
    },
    {
      "cell_type": "markdown",
      "metadata": {
        "id": "9_atotDRpH-A"
      },
      "source": [
        "With this array of zeros, instead of shifting the reconstituted chuncks, we can shift the time vector itself to add the reconstituted chuncks to it with this line of code:"
      ]
    },
    {
      "cell_type": "markdown",
      "metadata": {
        "id": "sog647RfpH-A"
      },
      "source": [
        "OLA_array[int(i*nHop) : int(i*nHop + nWin)] += reconstructed_list\n"
      ]
    },
    {
      "cell_type": "markdown",
      "metadata": {
        "id": "60YjmqOApH-B"
      },
      "source": [
        "Our function so far looks like this:"
      ]
    },
    {
      "cell_type": "code",
      "execution_count": null,
      "metadata": {
        "id": "bphucpTqpH-B"
      },
      "outputs": [],
      "source": [
        "def itfct(stft_matrix, nHop, nWin):\n",
        "    \n",
        "    [_, L] = np.shape(stft_matrix)\n",
        "    \n",
        "    OLA_array = np.zeros(int(nHop*L + abs(nWin - nHop)))\n",
        "    \n",
        "    for i, trame in enumerate(np.transpose(stft_matrix)):\n",
        "        reconstructed_list = abs(ifft(trame))\n",
        "\n",
        "        OLA_array[int(i*nHop) : int(i*nHop + nWin)] += reconstructed_list\n",
        "    \n",
        "    return OLA_array"
      ]
    },
    {
      "cell_type": "markdown",
      "metadata": {
        "id": "ck6NXELJpH-B"
      },
      "source": [
        "The last step is to normalize the obtained array.\n",
        "For this we must take into account the window function used in sftf. In our case this function is the hamming function.\n",
        "\n",
        "As seen in class, we know that the reconstituted chuncks, when superimposed in the OLA algorithm, end up with wrong values thanks to this superposition. To fix this distortion in the values we just have to divide each value of our vector obtained with the itfct by the sum of the values of the window function sampled in the same way as the sound signal divided by nHop.\n",
        "\n",
        "This is done by the following line of code:"
      ]
    },
    {
      "cell_type": "markdown",
      "metadata": {
        "id": "eXDQuWjBpH-B"
      },
      "source": [
        "K = sum(np.hamming(nWin))/nHop\n",
        "    \n",
        "OLA_array /= K"
      ]
    },
    {
      "cell_type": "markdown",
      "metadata": {
        "id": "weNj1VDMpH-C"
      },
      "source": [
        "We must also add as an output element of our function, the temporal array, which will help us to plot the signal obtained and to orient ourselves temporally.\n",
        "\n",
        "For this we must know a priori the sampling frequency of the desired sound signal."
      ]
    },
    {
      "cell_type": "markdown",
      "metadata": {
        "id": "xYSL-7u0pH-C"
      },
      "source": [
        "Ours should look like this now:"
      ]
    },
    {
      "cell_type": "code",
      "execution_count": null,
      "metadata": {
        "id": "Cq1mpl04pH-C"
      },
      "outputs": [],
      "source": [
        "## Now with normalization\n",
        "\n",
        "def itfct(stft_matrix, nHop, nWin, sf):\n",
        "    \n",
        "    [_, L] = np.shape(stft_matrix)\n",
        "    \n",
        "    final_reconstructed = np.zeros(np.shape(stft_matrix))\n",
        "    OLA_array = np.zeros(int(nHop*L + abs(nWin - nHop)))\n",
        "    \n",
        "    for i, trame in enumerate(np.transpose(stft_matrix)):\n",
        "#         reconstructed_list = np.real(ifft(trame))[0 : nWin]\n",
        "        reconstructed_list = abs(ifft(trame))[0 : nWin]\n",
        "\n",
        "        OLA_array[int(i*nHop) : int(i*nHop + nWin)] += reconstructed_list\n",
        "    \n",
        "    K = sum(np.hamming(nWin))/nHop\n",
        "    \n",
        "    OLA_array /= K\n",
        "    \n",
        "    # creating time array\n",
        "    t = np.linspace(0, len(OLA_array)/sf, len(OLA_array)) \n",
        "    \n",
        "    return t, OLA_array"
      ]
    },
    {
      "cell_type": "markdown",
      "metadata": {
        "id": "O18h6OvvpH-C"
      },
      "source": [
        "Now we need to test our function.\n",
        "For this, first we use the 'sound.wav' file, perform the STFT on it and plot the resulting matrix as a spectgram\n",
        "The parameters to be provided are:\n",
        "\n",
        "Nwin : The value will be the size of the original signal divided by 500.\n",
        "\n",
        "Nhop: It will be the value of Nwin divided by 2. This way we will have 1000 windowed pieces of the original signal.\n",
        "\n",
        "Nfft: Twice the value of Nwin, this way we improve the frequency accuracy obtained, through zero padding of the windowed signal.\n",
        "\n",
        "F : Sampling frequency. I used the value of 16 kHz."
      ]
    },
    {
      "cell_type": "code",
      "execution_count": null,
      "metadata": {
        "id": "dULA0wVBpH-D"
      },
      "outputs": [],
      "source": [
        "document = 'sound.wav'\n",
        "\n",
        "# read signal\n",
        "x_array = sf.read(document, dtype='float64')\n",
        "x_array = x_array[0]\n",
        "f = 16000\n",
        "\n",
        "# Initializate parameters\n",
        "x_length = len(x_array)\n",
        "N_win = round(x_length/500)\n",
        "N_hop = round(N_win/2)\n",
        "N_fft = N_win*2\n",
        "\n",
        "# get stft matrix\n",
        "t, f, matrix = tfct(document,N_win, N_hop, N_fft)\n",
        "\n",
        "import seaborn as sns\n",
        "\n",
        "plt.imshow(np.log10(matrix), aspect='auto', interpolation='none',\n",
        " extent = extents(t) + extents(f), origin='lower')\n",
        "\n",
        "plt.xlabel('t (s)')\n",
        "plt.ylabel('f (Hz)')\n",
        "plt.show()"
      ]
    },
    {
      "cell_type": "markdown",
      "metadata": {
        "id": "8iR4lTy_pH-D"
      },
      "source": [
        "After that, we use this matrix as input for the function developed today, along with the other reconstruction parameters (nWin, nHop and sf)"
      ]
    },
    {
      "cell_type": "code",
      "execution_count": null,
      "metadata": {
        "id": "IaEQPqEppH-D"
      },
      "outputs": [],
      "source": [
        "t_y, y_array = itfct(matrix, N_hop, N_win, 16000)"
      ]
    },
    {
      "cell_type": "markdown",
      "metadata": {
        "id": "rRP8GfDPpH-D"
      },
      "source": [
        "We can plot the obtained vector overlapping with the original vector to see the differences"
      ]
    },
    {
      "cell_type": "code",
      "execution_count": null,
      "metadata": {
        "id": "T7VpevlXpH-E"
      },
      "outputs": [],
      "source": [
        "document = 'sound.wav'\n",
        "x_array = sf.read(document, dtype='float64')\n",
        "x_array = x_array[0]\n",
        "f = 16000\n",
        "\n",
        "t_x = np.linspace(0, len(x_array)/f, len(x_array)) \n",
        "\n",
        "plt.plot(t_x,x_array, label = \"original signal\")\n",
        "\n",
        "plt.plot(t_y, y_array, label = \"reconstructed signal\")\n",
        "\n",
        "print(\"play origial sound:\")\n",
        "display (Audio(x_array , rate=f))\n",
        "print(\"play recovered sound:\")\n",
        "display (Audio(y_array , rate=f))\n",
        "\n",
        "plt.legend()"
      ]
    },
    {
      "cell_type": "markdown",
      "metadata": {
        "id": "Fls8PrAmpH-E"
      },
      "source": [
        "We can see that the values of the reconstructed signal were all positive. I tried to review the steps and unfortunately I couldn't understand the explanation for this.\n",
        "\n",
        "Nevertheless, we can see the similarity of both signals.\n",
        "\n",
        "When we listen to the sound produced by the signal obtained, we notice a difference between them. However, we can clearly recognize that the song is the same."
      ]
    },
    {
      "cell_type": "markdown",
      "metadata": {
        "id": "EZL9ScXCpH-E"
      },
      "source": [
        "Now we need to study the error obtained by the transformation\n",
        "\n",
        "signal -> stft -> stft inverse -> rebuilt signal\n",
        "\n",
        "for this we look at the mean square of the difference between them.\n",
        "\n",
        "we can also plot the error.\n",
        "\n",
        "Unfortunately, the expected is to have a big error, since the signal came entirely positive."
      ]
    },
    {
      "cell_type": "code",
      "execution_count": null,
      "metadata": {
        "id": "W7UJHnEzpH-E"
      },
      "outputs": [],
      "source": [
        "error = x_array - y_array[:len(x_array)]\n",
        "\n",
        "plt.plot(error)\n",
        "\n",
        "squared_error = np.average(np.sqrt(error**2))\n",
        "\n",
        "print(\"squared error:\", squared_error)"
      ]
    },
    {
      "cell_type": "markdown",
      "metadata": {
        "id": "HzReSUutpH-E"
      },
      "source": [
        "# Application au débruitage pour soustraction spectrale\n",
        "\n",
        "Based on the article:\n",
        "\n",
        "Steven F. Boll (1979). Suppression of Acoustic Noise in Speech Using Spectral Subtraction. IEEE Transactions on Acoustics, Speech, and Signal Processing,\n",
        "vol.27(2), p.113-120.\n",
        "\n",
        "For this part, we will use the noise suppression technique.\n",
        "\n",
        "First, let's test what we've produced so far, but with the mix.wav file\n",
        "\n",
        "We will use the parameters in the same way as before. Nwin = signal size/500 and Nhop = Nwin/2"
      ]
    },
    {
      "cell_type": "code",
      "execution_count": null,
      "metadata": {
        "id": "mXXFSQNPpH-F"
      },
      "outputs": [],
      "source": [
        "document = 'mix.wav'\n",
        "\n",
        "# read signal\n",
        "x_array = sf.read(document, dtype='float64')\n",
        "x_array = x_array[0]\n",
        "f = 16000\n",
        "\n",
        "# Initializate parameters\n",
        "x_length = len(x_array)\n",
        "N_win = round(x_length/500)\n",
        "N_hop = round(N_win/2)\n",
        "N_fft = N_win*2\n",
        "\n",
        "# get stft matrix\n",
        "t, f, matrix = tfct(document,N_win, N_hop, N_fft)\n",
        "\n",
        "import seaborn as sns\n",
        "plt.imshow(np.log10(matrix), aspect='auto', interpolation='none',\n",
        " extent = extents(t) + extents(f), origin='lower')\n",
        "\n",
        "plt.title(\"Mix sound spectogram\")\n",
        "plt.xlabel('t (s)')\n",
        "plt.ylabel('f (Hz)')\n",
        "plt.show()"
      ]
    },
    {
      "cell_type": "markdown",
      "metadata": {
        "id": "gpE3OfpqpH-F"
      },
      "source": [
        "Now, to eliminate the noise, we need to understand the characteristics of this noise.\n",
        "\n",
        "Let's try to find a piece of the signal where we can only hear the noise"
      ]
    },
    {
      "cell_type": "code",
      "execution_count": null,
      "metadata": {
        "id": "bGvOPedDpH-F"
      },
      "outputs": [],
      "source": [
        "print(x_array)\n",
        "f = 16000\n",
        "\n",
        "t_x = np.linspace(0, len(x_array)/f, len(x_array))\n",
        "\n",
        "plt.plot(t_x[:7500], x_array[:7500])\n",
        "plt.xlabel('t (s)')"
      ]
    },
    {
      "cell_type": "markdown",
      "metadata": {
        "id": "eRvD8cCmpH-G"
      },
      "source": [
        "We can notice that from the beginning until the instant 0.46 s we have nothing but noise.\n",
        "Now, let's take this piece of noise and study what frequencies it is composed of."
      ]
    },
    {
      "cell_type": "code",
      "execution_count": null,
      "metadata": {
        "id": "MLA-lL6QpH-G"
      },
      "outputs": [],
      "source": [
        "noise_signal = x_array[:7500]\n",
        "\n",
        "noise_fft = fft(noise_signal)\n",
        "\n",
        "plt.figure()\n",
        "plt.plot(np.abs(noise_fft)/len(noise_fft))\n",
        "plt.title(\"noise frequence spectrum\")\n",
        "plt.xlabel(\"Frequencies (Hz)\")\n",
        "plt.grid()"
      ]
    },
    {
      "cell_type": "markdown",
      "metadata": {
        "id": "eEQ0tYawpH-G"
      },
      "source": [
        "Now, we must take this frequency information from the noise and subtract it from each leg (column) of the matrix returned by the tfct() function.\n",
        "\n",
        "For this we have to adjust the parameters so that the noise frequency array has the same dimension as the matrix columns\n",
        "\n",
        "The second 0.46, corresponding to the instant up to which there is only noise, is translated by the first 7500 values of the original signal. Knowing this, we need that the nWin of our STFT is also equal to 7500.\n",
        "\n",
        "First, let's see how the array looks with the parameters described like this. Without the indicated subtraction."
      ]
    },
    {
      "cell_type": "code",
      "execution_count": null,
      "metadata": {
        "id": "Rj0UYALrpH-H"
      },
      "outputs": [],
      "source": [
        "# Initializate parameters\n",
        "x_length = len(x_array)\n",
        "N_win = 7500\n",
        "N_hop = round(N_win/2)\n",
        "N_fft = N_win\n",
        "\n",
        "# get stft matrix\n",
        "t, f, matrix = tfct(document,N_win, N_hop, N_fft)       \n",
        "\n",
        "import seaborn as sns\n",
        "plt.imshow(np.log10(matrix), aspect='auto', interpolation='none',\n",
        " extent = extents(t) + extents(f), origin='lower')\n",
        "\n",
        "plt.title(\"Mix sound spectogram\")\n",
        "plt.xlabel('t (s)')\n",
        "plt.ylabel('f (Hz)')\n",
        "plt.show()     "
      ]
    },
    {
      "cell_type": "markdown",
      "metadata": {
        "id": "Q53b23OdpH-H"
      },
      "source": [
        "Now, we perform the subtractions and see how the matrix changes.\n",
        "\n",
        "It is important to note that there are no negative amplitudes for a sine wave. So when performing the subtraction we must check if the result is negative. If yes, it must be changed to 0.\n",
        "\n",
        "This is done through the maximo function:\n",
        "max(result of subtraction, 0)"
      ]
    },
    {
      "cell_type": "code",
      "execution_count": null,
      "metadata": {
        "id": "yYd7NAdJpH-H"
      },
      "outputs": [],
      "source": [
        "for i in range(len(matrix[0, :])):\n",
        "    for j in range(len(matrix[:, 0])):\n",
        "        matrix[j, i] = max(matrix[j, i] - abs(noise_fft[i]),0)"
      ]
    },
    {
      "cell_type": "code",
      "execution_count": null,
      "metadata": {
        "scrolled": true,
        "id": "SphnMZNtpH-I"
      },
      "outputs": [],
      "source": [
        "import seaborn as sns\n",
        "plt.imshow(np.log10(matrix), aspect='auto', interpolation='none',\n",
        " extent = extents(t) + extents(f), origin='lower')\n",
        "\n",
        "plt.title(\"Mix sound spectogram\")\n",
        "plt.xlabel('t (s)')\n",
        "plt.ylabel('f (Hz)')\n",
        "plt.show()"
      ]
    },
    {
      "cell_type": "markdown",
      "metadata": {
        "id": "5NUSkxU-pH-I"
      },
      "source": [
        "We can notice a significant difference in the matrix.\n",
        "\n",
        "We can see some white regions in the spectogram. These correspond to frequency regions with amplitudes equal to or less than the amplitudes of the noise frequencies. With subtraction, these regions ended up going to zero."
      ]
    },
    {
      "cell_type": "markdown",
      "metadata": {
        "id": "pOGAtxszpH-I"
      },
      "source": [
        "Finally, we must understand how this noise signal correction affected the original signal.\n",
        "\n",
        "The itfct() function will be applied to the resulting matrix of the correction, using the same values of nWin and nHop used in tfct()"
      ]
    },
    {
      "cell_type": "code",
      "execution_count": null,
      "metadata": {
        "id": "uYsdfmr9pH-I"
      },
      "outputs": [],
      "source": [
        "# Initializate parameters\n",
        "x_length = len(x_array)\n",
        "N_win = 7500\n",
        "N_hop = round(N_win/2)\n",
        "\n",
        "t_y, y_array = itfct(matrix, N_hop, N_win, 16000)"
      ]
    },
    {
      "cell_type": "markdown",
      "metadata": {
        "id": "8A3SDtu2pH-L"
      },
      "source": [
        "let's plot this signal obtained by the inverse stft."
      ]
    },
    {
      "cell_type": "code",
      "execution_count": null,
      "metadata": {
        "id": "9Gm8wMXcpH-L"
      },
      "outputs": [],
      "source": [
        "plt.plot(t_y, y_array)\n",
        "\n",
        "plt.title(\"Signal reconstructed after noise correction\")\n",
        "plt.xlabel('t (s)')\n",
        "plt.show()"
      ]
    },
    {
      "cell_type": "markdown",
      "metadata": {
        "id": "G_-pE-MNpH-M"
      },
      "source": [
        "Due to the same problem mentioned in the first part, unfortunately it is not possible to evaluate the use of the correction."
      ]
    }
  ],
  "metadata": {
    "kernelspec": {
      "display_name": "Python 3",
      "language": "python",
      "name": "python3"
    },
    "language_info": {
      "codemirror_mode": {
        "name": "ipython",
        "version": 3
      },
      "file_extension": ".py",
      "mimetype": "text/x-python",
      "name": "python",
      "nbconvert_exporter": "python",
      "pygments_lexer": "ipython3",
      "version": "3.8.3"
    },
    "colab": {
      "name": "TP3_son.ipynb",
      "provenance": []
    }
  },
  "nbformat": 4,
  "nbformat_minor": 0
}